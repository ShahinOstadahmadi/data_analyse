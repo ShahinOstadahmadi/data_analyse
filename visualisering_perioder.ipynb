{
 "cells": [
  {
   "cell_type": "markdown",
   "metadata": {},
   "source": [
    "# Tilkallinger basert på forskjellige perioder\n"
   ]
  },
  {
   "cell_type": "code",
   "execution_count": 2,
   "metadata": {},
   "outputs": [],
   "source": [
    "# Vi henter alle dataene på nytt for å holde orden i koden \n",
    "\n",
    "import pandas as pd\n",
    "import numpy as np\n",
    "import matplotlib.pyplot as plt\n",
    "\n",
    "\n",
    "fil_navn = 'DIN_FILNAVN.xlsx'\n",
    "df = pd.read_excel(fil_navn)"
   ]
  },
  {
   "cell_type": "code",
   "execution_count": null,
   "metadata": {},
   "outputs": [],
   "source": [
    "# Ser på de første 5 radene for å sikre at dataen er med slik som de er\n",
    "df.head(n=5)"
   ]
  },
  {
   "cell_type": "code",
   "execution_count": null,
   "metadata": {},
   "outputs": [],
   "source": [
    "# Ser på de siste 5 radene for å sikre at dataen er med slik som de er\n",
    "df.tail(n=5)"
   ]
  },
  {
   "cell_type": "code",
   "execution_count": 5,
   "metadata": {},
   "outputs": [],
   "source": [
    "df['Pl. ferdig'] = pd.to_datetime(df['Pl. ferdig'])  # Konverter \"Pl. ferdig\"-kolonnen til en datetime\n",
    "monthly_calls = df.groupby(df['Pl. ferdig'].dt.to_period(\"M\")).size() # Grupper dataene per måned og tell antall vakttilkallinger"
   ]
  },
  {
   "cell_type": "markdown",
   "metadata": {},
   "source": [
    "## Visualisere antall tilkallinger for hver mnd "
   ]
  },
  {
   "cell_type": "code",
   "execution_count": null,
   "metadata": {},
   "outputs": [],
   "source": [
    "average_calls = monthly_calls.mean()\n",
    "\n",
    "plt.figure(figsize=(15, 6))\n",
    "monthly_calls.plot(kind='bar', alpha=0.75)  # Reduserer opaciteten litt for å se gjennomsnittslinjen tydeligere\n",
    "plt.axhline(y=average_calls, color='r', linestyle='--', label=f'Gjennomsnitt: {average_calls:.2f}')\n",
    "plt.title(\"Antall vakttilkallinger per måned\")\n",
    "plt.xlabel(\"Måned\")\n",
    "plt.ylabel(\"Antall vakttilkallinger\")\n",
    "plt.xticks(rotation=45)\n",
    "plt.legend()\n",
    "plt.tight_layout()\n",
    "plt.show()"
   ]
  },
  {
   "cell_type": "markdown",
   "metadata": {},
   "source": [
    "### Hvilket jobområdet tilhører alle dataene tilkallingene? \n",
    "\n"
   ]
  },
  {
   "cell_type": "code",
   "execution_count": null,
   "metadata": {},
   "outputs": [],
   "source": [
    "#gruppere etter Jobbområde\n",
    "grouped_df = df.groupby('Jobbomr.').size()\n",
    "grouped_df.name =\"Count\"\n",
    "\n",
    "print((grouped_df))\n",
    "\n",
    "dataFrameJobbOm = grouped_df.reset_index()\n",
    "dataFrameJobbOm\n",
    "\n",
    "plt.figure(figsize=(16, 8))\n",
    "\n",
    "# Create a bar plot\n",
    "plt.subplot(1, 2, 2)\n",
    "# plt.figure(figsize=(10, 6))\n",
    "plt.bar(dataFrameJobbOm['Jobbomr.'], dataFrameJobbOm['Count'], color=['blue', 'green'])\n",
    "plt.xlabel('Jobbomr.')\n",
    "plt.ylabel('Antall')\n",
    "plt.title('Antall jobber fordelt på Jobb område')\n",
    "# plt.show()\n",
    "\n",
    "# Create a pie chart\n",
    "plt.subplot(1, 2, 1)\n",
    "# plt.figure(figsize=(8, 8))\n",
    "plt.pie(dataFrameJobbOm['Count'], labels=dataFrameJobbOm['Jobbomr.'], autopct='%1.1f%%', startangle=50,)\n",
    "# plt.axis('equal')  # Equal aspect ratio ensures that pie is drawn as a circle.\n",
    "plt.title('Distribusjon av Jobb område')\n",
    "plt.show()\n"
   ]
  },
  {
   "cell_type": "markdown",
   "metadata": {},
   "source": [
    "# Analysere \"Verstingene\" \n",
    "Nå skal vi analysere hvert objekt alene og finne ut mere informasjon i datasettet. "
   ]
  },
  {
   "cell_type": "markdown",
   "metadata": {},
   "source": [
    "### Vi finner først ut hvor mange objekter vi har.  "
   ]
  },
  {
   "cell_type": "code",
   "execution_count": null,
   "metadata": {},
   "outputs": [],
   "source": [
    "# Finne ut alle kolonne navnene og srive ut  \n",
    "\n",
    "column_name = list(df.columns)\n",
    "print(column_name)\n",
    "\n",
    "# antal unike objekter\n",
    "\n",
    "unique_objekts = df['Objektnr'].unique()\n",
    "unique_objekts_len = len(list(unique_objekts))\n",
    "\n",
    "print(\"Antall unike objekter: \", unique_objekts_len) # vi har totalt 884 forskjellige objekter\n",
    "# print(\"Unike ojekter navn:\\n\", unique_objekts) # Du kan skrive ut alle navnene her \n"
   ]
  },
  {
   "cell_type": "markdown",
   "metadata": {},
   "source": [
    "# Filtrering og forberedelser av data\n",
    "\n",
    "Vårt data sett er for 3 års periode. og vi kan se i datasettet vårt at det er mange objekter som kun har hatt en vakttilkalling. Noen viktige punkter:\n",
    "\n",
    "- Vi må bestemme oss for objekter objekter vi skal analysere\n",
    "- Hvordan skal vi velge hvem vi skal analysere? \n"
   ]
  },
  {
   "cell_type": "code",
   "execution_count": null,
   "metadata": {},
   "outputs": [],
   "source": [
    "# Først grupperer vi objektene etter antall tilkallinger\n",
    "grouped_df = df.groupby('Objektnr').size()\n",
    "grouped_df.name = \"Antall\"\n",
    "\n",
    "# Konvertere dataserie til data frame\n",
    "grouped_df = grouped_df.reset_index()\n",
    "\n",
    "# VI finner den verste og begynner med den \n",
    "\n",
    "# Printe ut antall objekter med antall tilkallinger \n",
    "print(\"Objektnr med antall tilkallinger: \")\n",
    "print(grouped_df)\n",
    "\n",
    "# vi sortere etter de med størst antall \n",
    "sorted_df = grouped_df.sort_values(by='Antall', ascending=False)\n",
    "\n",
    "print(\"Objektnr med antall tilkallinger sortert [største -> minst]: \")\n",
    "print(sorted_df)\n",
    "\n",
    "# printer de 20 \"verste\"\n",
    "sorted_df.head(n=20)\n",
    "\n"
   ]
  },
  {
   "cell_type": "code",
   "execution_count": null,
   "metadata": {},
   "outputs": [],
   "source": []
  },
  {
   "cell_type": "markdown",
   "metadata": {},
   "source": [
    "### Vi begynner å analysere de 20 objektene som har hatt mest vakttilkallinger gjennom alle tre årene\n",
    "\n"
   ]
  },
  {
   "cell_type": "markdown",
   "metadata": {},
   "source": [
    "### Andel av totalen \n",
    "\n",
    "Vi kan først se hvor mye de \"20 verstingene\" utgjør i forhold til resten a datasettet. Vi kan visualisere ved hjelp av kakediagram. \n"
   ]
  },
  {
   "cell_type": "code",
   "execution_count": null,
   "metadata": {},
   "outputs": [],
   "source": [
    "# de verste 20 \n",
    "worst_20 = sorted_df.head(n=20)\n",
    "\n",
    "# resetter indeksene \n",
    "worst_20.reset_index(drop=True, inplace=True)\n",
    "\n",
    "antall_tilkallinger = df['Objektnr'].count()\n",
    "antall_tilkallinger_worst_20 = sum(worst_20['Antall'])\n",
    "antall_tilkallinger_others = antall_tilkallinger - antall_tilkallinger_worst_20\n",
    "\n",
    "# Data for det andre kakediagrammet\n",
    "total_unike_objekter = df['Objektnr'].nunique()\n",
    "\n",
    "worst_20_objekter = 20\n",
    "andre_objekter = total_unike_objekter - worst_20_objekter\n",
    "\n",
    "labels2 = ['Verste 20 objekter', f'Andre {andre_objekter} objekter']\n",
    "sizes2 = [worst_20_objekter, andre_objekter]\n",
    "colors2 = ['blue', 'orange']\n",
    "explode2 = (0.1, 0)\n",
    "\n",
    "# Data for det første kakediagrammet\n",
    "labels1 = ['Verste 20 objekter', f'Andre {andre_objekter} objekter']\n",
    "sizes1 = [antall_tilkallinger_worst_20, antall_tilkallinger_others]\n",
    "colors1 = ['red', 'green']\n",
    "explode1 = (0.1, 0)\n",
    "\n",
    "# Lage kakediagrammene\n",
    "plt.figure(figsize=(16, 8))\n",
    "\n",
    "# Første kakediagram\n",
    "plt.subplot(1, 2, 2)\n",
    "plt.pie(sizes1, explode=explode1, labels=labels1, colors=colors1, autopct='%1.1f%%', shadow=True, startangle=140)\n",
    "plt.title(\"Fordeling av vakttilkallinger\")\n",
    "\n",
    "# Andre kakediagram\n",
    "plt.subplot(1, 2, 1)\n",
    "plt.pie(sizes2, explode=explode2, labels=labels2, colors=colors2, autopct='%1.1f%%', shadow=True, startangle=140)\n",
    "plt.title(\"Fordeling av objekter\")\n",
    "\n",
    "plt.show()\n",
    "\n",
    "# Alle objektnr\n",
    "worst_20_objektnr = worst_20['Objektnr']\n",
    "\n",
    "\n",
    "filtered_df = df[df['Objektnr'].isin(worst_20_objektnr)]\n",
    "\n",
    "filtered_df"
   ]
  },
  {
   "cell_type": "markdown",
   "metadata": {},
   "source": [
    "### Visualisere antall tilkallinger for hver mnd "
   ]
  },
  {
   "cell_type": "code",
   "execution_count": null,
   "metadata": {},
   "outputs": [],
   "source": [
    "\n",
    "start_date = filtered_df['Pl. ferdig'].min().to_period('M')\n",
    "end_date = filtered_df['Pl. ferdig'].max().to_period('M')\n",
    "all_months = pd.period_range(start_date, end_date, freq='M')\n",
    "\n",
    "monthly_calls_worst_20 = filtered_df.groupby(filtered_df['Pl. ferdig'].dt.to_period(\"M\")).size()\n",
    "\n",
    "monthly_calls_worst_20 = monthly_calls_worst_20.reindex(all_months, fill_value=0)\n",
    "\n",
    "\n",
    "average_calls_worst_20 = monthly_calls_worst_20.mean()\n",
    "\n",
    "plt.figure(figsize=(15, 6))\n",
    "monthly_calls_worst_20.plot(kind='bar', alpha=0.75)  # Reduserer opaciteten litt for å se gjennomsnittslinjen tydeligere\n",
    "plt.axhline(y=average_calls_worst_20, color='r', linestyle='--', label=f'Gjennomsnitt: {average_calls_worst_20:.2f}')\n",
    "plt.title(\"Antall vakttilkallinger per måned\")\n",
    "plt.xlabel(\"Måned\")\n",
    "plt.ylabel(\"Antall vakttilkallinger\")\n",
    "plt.xticks(rotation=45)\n",
    "plt.legend()\n",
    "plt.tight_layout()\n",
    "plt.show()"
   ]
  },
  {
   "cell_type": "markdown",
   "metadata": {},
   "source": [
    "#### Visualisere hvert objekt's vakttilkallinger for alle tre årene for hver mnd "
   ]
  },
  {
   "cell_type": "code",
   "execution_count": null,
   "metadata": {},
   "outputs": [],
   "source": [
    "fig, axs = plt.subplots(10, 2, figsize=(10,40))\n",
    "\n",
    "# Flatten the array of axis subplots, so we can easily loop over it\n",
    "axs = axs.flatten()\n",
    "\n",
    "# Initialize variable to keep track of the maximum y-value across all plots\n",
    "max_y_value = 0\n",
    "\n",
    "# Create a mapping from Objektnr to Objektnavn\n",
    "objektnr_to_name = dict(zip(filtered_df['Objektnr'], filtered_df['Objektnavn']))\n",
    "\n",
    "# First pass to find the maximum y-value\n",
    "for objektnr in worst_20['Objektnr']:\n",
    "    temp_df = filtered_df[filtered_df['Objektnr'] == objektnr]\n",
    "    monthly_calls = temp_df.groupby(temp_df['Pl. ferdig'].dt.to_period(\"M\")).size()\n",
    "    max_y_value = max(max_y_value, monthly_calls.max())\n",
    "\n",
    "# Second pass to plot the data\n",
    "for i, objektnr in enumerate(worst_20['Objektnr']):\n",
    "    temp_df = filtered_df[filtered_df['Objektnr'] == objektnr]\n",
    "    monthly_calls = temp_df.groupby(temp_df['Pl. ferdig'].dt.to_period(\"M\")).size()\n",
    "    \n",
    "    # Create a complete index that includes all months from the earliest to the latest date\n",
    "    start_date = temp_df['Pl. ferdig'].min().to_period('M')\n",
    "    end_date = temp_df['Pl. ferdig'].max().to_period('M')\n",
    "    all_months = pd.period_range(start_date, end_date, freq='M')\n",
    "    \n",
    "    # Reindex your series\n",
    "    monthly_calls = monthly_calls.reindex(all_months, fill_value=0)\n",
    "    \n",
    "    average_calls = monthly_calls.mean()\n",
    "\n",
    "    objectName = objektnr_to_name.get(objektnr, \"Unknown\")\n",
    "    \n",
    "    axs[i].bar(monthly_calls.index.astype(str), monthly_calls.values, alpha=0.75)\n",
    "    axs[i].axhline(y=average_calls, color='r', linestyle='--', label=f'Avg: {average_calls:.2f}')\n",
    "    axs[i].set_title(f\"{objektnr} - {objectName}\")\n",
    "    axs[i].set_xticklabels(monthly_calls.index.astype(str), rotation=45)\n",
    "    axs[i].set_ylim([0, max_y_value])\n",
    "    axs[i].legend()\n",
    "\n",
    "# Remove any unused subplots\n",
    "for i in range(len(worst_20['Objektnr']), len(axs)):\n",
    "    fig.delaxes(axs[i])\n",
    "\n",
    "plt.tight_layout()\n",
    "plt.show()\n"
   ]
  },
  {
   "cell_type": "code",
   "execution_count": null,
   "metadata": {},
   "outputs": [],
   "source": [
    "def moving_average(data, window_size):\n",
    "    \"\"\"Calculate a simple moving average.\"\"\"\n",
    "    return np.convolve(data, np.ones(window_size)/window_size, mode='valid')\n",
    "\n",
    "# Create a mapping from Objektnr to Objektnavn\n",
    "objektnr_to_name = dict(zip(filtered_df['Objektnr'], filtered_df['Objektnavn']))\n",
    "\n",
    "fig, axs = plt.subplots(10, 2, figsize=(10, 40))\n",
    "axs = axs.flatten()\n",
    "\n",
    "max_y_value = 0\n",
    "\n",
    "# First pass to find the maximum y-value\n",
    "for objektnr in worst_20['Objektnr']:\n",
    "    temp_df = filtered_df[filtered_df['Objektnr'] == objektnr]\n",
    "    monthly_calls = temp_df.groupby(temp_df['Pl. ferdig'].dt.to_period(\"M\")).size()\n",
    "    max_y_value = max(max_y_value, monthly_calls.max())\n",
    "\n",
    "# Second pass to plot the data\n",
    "for i, objektnr in enumerate(worst_20['Objektnr']):\n",
    "    temp_df = filtered_df[filtered_df['Objektnr'] == objektnr]\n",
    "    monthly_calls = temp_df.groupby(temp_df['Pl. ferdig'].dt.to_period(\"M\")).size()\n",
    "    average_calls = monthly_calls.mean()\n",
    "    \n",
    "    # Calculate the moving average with a window size of 3\n",
    "    smoothed_calls = moving_average(monthly_calls, 3)\n",
    "    \n",
    "    objectName = objektnr_to_name.get(objektnr, \"Unknown\")\n",
    "    \n",
    "    axs[i].bar(monthly_calls.index.astype(str), monthly_calls.values, alpha=0.4, label='Monthly Calls')\n",
    "    axs[i].plot(monthly_calls.index.astype(str)[:-2], smoothed_calls, color='r', linestyle='-', label='Smoothed Curve')\n",
    "    axs[i].set_title(f\"{objektnr} - {objectName}\")\n",
    "    axs[i].set_xticklabels(monthly_calls.index.astype(str), rotation=45)\n",
    "    axs[i].set_ylim([0, max_y_value])\n",
    "    axs[i].legend()\n",
    "\n",
    "# Remove any unused subplots\n",
    "for i in range(len(worst_20['Objektnr']), len(axs)):\n",
    "    fig.delaxes(axs[i])\n",
    "\n",
    "plt.tight_layout()\n",
    "plt.show()\n"
   ]
  }
 ],
 "metadata": {
  "kernelspec": {
   "display_name": "base",
   "language": "python",
   "name": "python3"
  },
  "language_info": {
   "codemirror_mode": {
    "name": "ipython",
    "version": 3
   },
   "file_extension": ".py",
   "mimetype": "text/x-python",
   "name": "python",
   "nbconvert_exporter": "python",
   "pygments_lexer": "ipython3",
   "version": "3.9.13"
  },
  "orig_nbformat": 4
 },
 "nbformat": 4,
 "nbformat_minor": 2
}
