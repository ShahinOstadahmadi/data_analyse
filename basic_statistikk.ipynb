{
 "cells": [
  {
   "cell_type": "markdown",
   "metadata": {},
   "source": [
    "# Grunnleggende analyse\n",
    "\n",
    "**Desktiptiv statistikk**\n",
    "- Gjennomsnitt\n",
    "- Median\n",
    "- Modus\n",
    "- Spredning\n",
    "    - Varians\n",
    "    - standardavvik\n",
    "    - Kvalitetsavstand\n",
    "    \n",
    "**Korrelasjon vs Kausalitet**\n",
    "\n",
    "- **Korrelasjon** innebærer en statistisk sammenheng mellom to variabler, noe som betyr at når en variabel beveger seg i en bestemt retning, tenderer den andre variabelen til å bevege seg i samme eller motsatt retning. Det er viktig å merke seg at korrelasjon ikke impliserer årsakssammenheng\n",
    "\n",
    "- **Kausalitet** (årsakssammenheng) indikerer at endringer i en variabel direkte forårsaker endringer i en annen. For å etablere kausalitet, må forskere ofte bruke kontrollerte eksperimenter.\n"
   ]
  },
  {
   "cell_type": "code",
   "execution_count": null,
   "metadata": {},
   "outputs": [],
   "source": [
    "import pandas as pd\n",
    "import numpy as np\n",
    "import matplotlib.pyplot as plt\n",
    "\n",
    "fil_navn = 'DIN_FILNAVN.xlsx'\n",
    "df = pd.read_excel(fil_navn)\n",
    "df"
   ]
  },
  {
   "cell_type": "markdown",
   "metadata": {},
   "source": [
    "---\n",
    "\n",
    "## Gjennomsnitt\n",
    "\n",
    ">Gjennomsnitt (eller middelverdi) er summen av alle datapunktene delt på antall datapunkter.\n",
    "\n",
    "**Vær Forsiktig med å bruke gjennomsnitt:**\n",
    "\n",
    "- **Outliers**: Gjennomsnittet kan bli forvrengt av outliers - ekstremt høye eller lave verdier. For eksempel, hvis en jobb tok unormalt lang tid, kan det gjøre gjennomsnittet misvisende.\n",
    "- **Skjevhet**: Hvis dataene dine er skjevfordelt, kan gjennomsnittet gi et misvisende bilde. Med skjeve data er medianen ofte en bedre sentral tendensmåler.\n",
    "- **Urepresentativt**: Gjennomsnittet alene gir ikke en fullstendig forståelse av dataene dine. Det forteller ingenting om spredningen eller fordelingen av de individuelle verdiene."
   ]
  },
  {
   "cell_type": "code",
   "execution_count": null,
   "metadata": {},
   "outputs": [],
   "source": [
    "gjennomsnitt_total_fakt = np.average(df['sum_timar'].dropna())\n",
    "\n",
    "# Lager en tekst jeg ønsker å bruke ofte\n",
    "prefix = \"Gjennomsnitt av sum_timar [{}] {}: \\n---------------------------------- \\n\"\n",
    "\n",
    "print(prefix.format(\"Total\", gjennomsnitt_total_fakt.round(2)))\n",
    "\n",
    "# Gjennomsnitt for alle unike \"kostnads_stad_navn\" for faktisk tid\n",
    "gruppert_kostnad = df.dropna(subset=['sum_timar']).groupby('kostnad_stad_navn')['sum_timar'].mean().sort_values(ascending=False)\n",
    "print(prefix.format(\"Gruppert etter kostnads_stad_navn\", gruppert_kostnad.round(2)))\n"
   ]
  },
  {
   "cell_type": "markdown",
   "metadata": {},
   "source": [
    "### Kombinere total antall vaktutkallinger og gjennomsnitt for hver unik \"kostnads_stad_navn\"\n",
    "\n",
    "**NB!** Det er to Y-akser: \n",
    "- **Høyreside** for antall vaktutkalliger \n",
    "- **Venstreside:** for gjennomsnitt_sum_timar\n",
    "\n",
    "Hvert punkt for gjennomsnitt og antall tilhørere respektive x-akse navn\n",
    "\n"
   ]
  },
  {
   "cell_type": "code",
   "execution_count": null,
   "metadata": {},
   "outputs": [],
   "source": [
    "import matplotlib.pyplot as plt\n",
    "\n",
    "# Beregn antall verdier og gjennomsnittene\n",
    "antall_verdier = df['kostnad_stad_navn'].value_counts().sort_index()\n",
    "gjennomsnittsverdier = df.dropna(subset=['sum_timar']).groupby('kostnad_stad_navn')['sum_timar'].mean().loc[antall_verdier.index]\n",
    "\n",
    "# Start plotting av stolpediagram\n",
    "fig, ax1 = plt.subplots(figsize=(14, 7))\n",
    "\n",
    "# Stolpediagram for antall verdier\n",
    "antall_verdier.plot(kind='bar', ax=ax1, color='teal', label='Antall', width=0.4, position=0)\n",
    "\n",
    "# Opprett en sekundær y-akse for gjennomsnittsverdier\n",
    "ax2 = ax1.twinx()\n",
    "\n",
    "# Plott gjennomsnittsverdier som et linjediagram på sekundær y-akse\n",
    "gjennomsnittsverdier.plot(kind='line', ax=ax2, color='#d14124', marker='o', label='Gjennomsnittlig sum_timar')\n",
    "\n",
    "# Legge til gjennomsnittsverdier som tekst på grafen\n",
    "for i, gjennomsnitt in enumerate(gjennomsnittsverdier):\n",
    "    ax2.text(i, gjennomsnitt+0.1, str(round(gjennomsnitt, 2)), color='black', ha='center')\n",
    "\n",
    "\n",
    "# Etiketter og titler\n",
    "ax1.set_xlabel('Kostnad_stad_navn')\n",
    "ax1.set_ylabel('Antall')\n",
    "ax2.set_ylabel('Gjennomsnittlig sum_timar')\n",
    "\n",
    "# Juster x-aksen for å vise navnene tydeligere\n",
    "ax1.set_xticklabels(ax1.get_xticklabels(), rotation=45, ha='right')\n",
    "\n",
    "# Legende\n",
    "# Vi må manuelt legge til legendene siden vi nå har to forskjellige akser.\n",
    "handles1, labels1 = ax1.get_legend_handles_labels()\n",
    "handles2, labels2 = ax2.get_legend_handles_labels()\n",
    "ax1.legend(handles1 + handles2, labels1 + labels2, loc='best')\n",
    "\n",
    "# Vis diagram\n",
    "plt.show()\n",
    "\n",
    "\n",
    "antall_verdier = df['kostnad_stad_navn'].value_counts()\n",
    "gjennomsnittsverdier = df.dropna(subset=['sum_timar']).groupby('kostnad_stad_navn')['sum_timar'].mean()\n",
    "\n",
    "\n",
    "antall_verdier_df = pd.DataFrame({\n",
    "    'Total_vakt_Utkallinger': antall_verdier, \n",
    "    'Gjennomsnitt': gjennomsnittsverdier.round(2)\n",
    "})\n",
    "\n",
    "antall_verdier_df\n"
   ]
  },
  {
   "cell_type": "markdown",
   "metadata": {},
   "source": [
    "### **Fallgruver**:\n",
    "\n",
    "- **Feiltolkning**: Gjennomsnittet representerer ikke nødvendigvis det \"typiske\" scenarioet hvis dataene har stor spredning.\n",
    "- **Ufullstendige Data**: Hvis datasettet ditt har mange manglende verdier, kan gjennomsnittet bli upålitelig med mindre disse håndteres riktig.\n",
    "- **Ensidig Bruk**: Å stole utelukkende på gjennomsnittet uten å vurdere andre deskriptive statistikker (som median, modus, spredning) kan føre til dårlige analytiske beslutninger."
   ]
  },
  {
   "cell_type": "markdown",
   "metadata": {},
   "source": [
    "----\n",
    "\n",
    "## Median\n",
    "\n",
    ">Median er det midterste datapunktet i en datasett som er sortert i stigende eller synkende rekkefølge.\n",
    "\n",
    "**Hvorfor bruker vi median?**\n",
    "\n",
    "- Eksempel: \n",
    "    - For å finne midtpunktet av tidsbruken på jobber, som gir en bedre forståelse av et \"typisk\" tidsbruk når dataene er skjeve.\n",
    "- Når man ønsker å forstå den sentrale tendensen i en distribusjon som ikke påvirkes av ekstreme verdier.\n",
    "\n",
    "**Vær oppmerksom ved bruk av Median:**\n",
    "\n",
    "- **Ikke Informativ alene:** Medianen gir ikke informasjon om variasjonen i dataene eller om det er flere toppunkt i datasettet.\n",
    "- **Skjulte detaljer:** To datasett med svært forskjellige fordelinger kan ha samme median, så det er viktig å vurdere den sammen med andre mål på spredning.\n",
    "\n",
    "---"
   ]
  },
  {
   "cell_type": "markdown",
   "metadata": {},
   "source": [
    "#### Utregning av median for totalt og hver unik kostnads_stad_navn:\n",
    "\n"
   ]
  },
  {
   "cell_type": "code",
   "execution_count": null,
   "metadata": {},
   "outputs": [],
   "source": [
    "# Finn medianen for 'sum_timar' kolonnen\n",
    "median_total_fakt = df['sum_timar'].median()\n",
    "\n",
    "# Skriv ut medianen med prefix-teksten\n",
    "print(\"Median totalt\", round(median_total_fakt, 2))\n",
    "\n",
    "# For å finne medianen for hver unik 'kostnads_stad_navn'\n",
    "gruppert_kostnad_median = df.dropna(subset=['sum_timar']).groupby('kostnad_stad_navn')['sum_timar'].median().sort_values(ascending=False)\n",
    "\n",
    "# Skriv ut medianene for hver gruppe\n",
    "print(\"Median gruppert etter kostnads_stad_navn\", gruppert_kostnad_median.round(2))\n"
   ]
  },
  {
   "cell_type": "markdown",
   "metadata": {},
   "source": [
    "#### Median og gjennomsnitt\n",
    "\n",
    "**Når du vurderer forskjellen mellom gjennomsnitt og median:**\n",
    "\n",
    "- Hvis **gjennomsnittet er høyere enn medianen**, kan det tyde på en skjevfordeling med en lang hale på høyre side av fordelingen (positiv skjevhet). Dette betyr at det er noen få svært høye verdier i datasettet som trekker gjennomsnittet oppover.\n",
    "\n",
    "- Hvis **gjennomsnittet er lavere enn medianen**, kan det indikere en skjevfordeling med en lang hale på venstre side av fordelingen (negativ skjevhet). Dette betyr at det er noen få svært lave verdier som trekker gjennomsnittet nedover.\n",
    "\n",
    "- **Hvis gjennomsnittet er veldig nært medianen**, antyder det at dataene er mer symmetrisk fordelt, altså uten betydelig skjevhet."
   ]
  },
  {
   "cell_type": "code",
   "execution_count": null,
   "metadata": {},
   "outputs": [],
   "source": [
    "\n",
    "antall_verdier_df = pd.DataFrame({\n",
    "    'Total_vakt_Utkallinger': antall_verdier, \n",
    "    'Gjennomsnitt': gjennomsnittsverdier.round(2),\n",
    "    'Median': gruppert_kostnad_median.round(2),\n",
    "    'Differanse %': ((gjennomsnittsverdier - gruppert_kostnad_median) * 100 / gruppert_kostnad_median ).round(2)\n",
    "})\n",
    "\n",
    "antall_verdier_df\n"
   ]
  },
  {
   "cell_type": "markdown",
   "metadata": {},
   "source": [
    "#### **Plotte histogram**\n",
    "\n",
    "**Hva er et histogram?**\n",
    "\n",
    "Et histogram er en type diagram som viser hvor ofte ulike verdier opptrer i et datasett. Det ligner på et stolpediagram, men i stedet for hver stolpe som representerer en kategori, representerer hver stolpe et intervall av tall (kalt en \"bin\"). Høyden på hver stolpe viser hvor mange verdier fra datasettet som faller innenfor det intervallet.\n",
    "\n",
    "For eksempel, hvis du har et datasett med aldre på en gruppe mennesker, kan et histogram ha stolper som representerer antall personer i aldersgruppene 0-9 år, 10-19 år, 20-29 år, og så videre. En høy stolpe betyr at mange mennesker faller inn i det aldersintervallet.\n",
    "\n",
    "Histogrammer er nyttige for å se fordelingen av numeriske data og for å identifisere mønstre som skjevhet, toppunkt (hvor mange topper dataene har) og om det er noen uvanlige verdier (uteliggere).\n",
    "\n",
    "**Skjevhet** (skewness) er et mål på hvor skjev en fordeling er, dvs. hvor mye den avviker fra en normalfordeling. En normalfordeling er symmetrisk og har ingen skjevhet. En fordeling med positiv skjevhet (skjev til høyre) har en høyre hale som er lengre enn venstre hale. En fordeling med negativ skjevhet (skjev til venstre) har en venstre hale som er lengre enn høyre hale. \n",
    "\n",
    "I en normalfordeling er gjennomsnittet og medianen like store. I en skjev fordeling er gjennomsnittet større enn medianen i en skjev til høyre fordeling, og mindre enn medianen i en skjev til venstre fordeling. \n",
    "\n",
    "![skjevhet](skjevhet.png)\n",
    "<img src=\"./skjevhet_.jpg\">\n",
    "\n",
    "**Høyre skjev:**\n",
    "\n",
    "- Gjennomsnittet er større enn medianen\n",
    "- Modus er mindre enn medianen\n",
    "\n",
    "![skjevhet](hoyreskjev.png)\n",
    "\n",
    "**Venstre skjev:**\n",
    "\n",
    "- Gjennomsnittet er mindre enn medianen\n",
    "- Modus er større enn medianen\n",
    "\n",
    "![image.png](venstreskjev.png)\n",
    "\n",
    "\n"
   ]
  },
  {
   "cell_type": "code",
   "execution_count": null,
   "metadata": {},
   "outputs": [],
   "source": [
    "import matplotlib.pyplot as plt\n",
    "\n",
    "# Lag en liste med de valgte 'kostnad_stad_navn'\n",
    "valgte_steder = ['Sag/pakking', 'Konti homogenisering', 'Støyping', 'Slagganlegg, støyperi','Batch homogenisering'\t]\n",
    "\n",
    "# Filtrer DataFrame for å inkludere bare de valgte stedene\n",
    "filtrert_df = df[df['kostnad_stad_navn'].isin(valgte_steder)]\n",
    "\n",
    "# Plot et histogram for å illustrere fordelingen av 'sum_timar' for hvert sted\n",
    "for sted in valgte_steder:\n",
    "    subset = filtrert_df[filtrert_df['kostnad_stad_navn'] == sted]['sum_timar']\n",
    "    plt.figure(figsize=(10, 4))\n",
    "    plt.hist(subset, bins=10, alpha=0.7, label=sted, color='#89b6b5')\n",
    "    plt.title(f'Fordeling av sum_timar - {sted}')\n",
    "    plt.xlabel('Sum timar')\n",
    "    plt.ylabel('Frekvens')\n",
    "    plt.legend()\n",
    "    plt.show()\n"
   ]
  },
  {
   "cell_type": "markdown",
   "metadata": {},
   "source": [
    "--- \n",
    "\n",
    "## Modus\n",
    "\n",
    ">Modus er det datapunktet som forekommer oftest i datasettet.\n",
    "\n",
    "\n",
    "**Bruk av Modus:**\n",
    "\n",
    "- For å identifisere den mest frekvente hendelsen, for eksempel den mest rapporterte typen av driftsstans.\n",
    "- Nyttig i kategoriske data hvor gjennomsnitt og median ikke gir mening, som f.eks. den mest brukte leverandøren eller deltypen.\n",
    "\n",
    "\n",
    "**Vær oppmerksom ved bruk av Modus:**\n",
    "\n",
    "- **Ikke alltid Nyttig:** Modus er ikke nyttig hvis alle verdier bare forekommer én gang eller hvis det er flere verdier som forekommer like ofte.\n",
    "- **Misvisende i små datasett:** I små datasett kan modus tilfeldigvis peke på et ikke-representativt element.\n"
   ]
  },
  {
   "cell_type": "markdown",
   "metadata": {},
   "source": [
    "### Signatur\n",
    "\n",
    "Hvor mange ganger har operatørene vært på utkalling?"
   ]
  },
  {
   "cell_type": "code",
   "execution_count": null,
   "metadata": {},
   "outputs": [],
   "source": [
    "\n",
    "# Få antall unike signaturer\n",
    "signatur_counts = df['signatur'].value_counts()\n",
    "\n",
    "# Filtrer signaturene som har mer enn \"antall_signatur\" \n",
    "# Du kan selv endre på antall_signatur for å excludere de so mhar få\n",
    "antall_signatur = 10\n",
    "filtered_signatur_counts = signatur_counts[signatur_counts > antall_signatur]\n",
    "\n",
    "# Lage bar-plot\n",
    "filtered_signatur_counts.plot(kind='bar', figsize=(10,6), xlabel=\"Signatur - ansatt\", ylabel=\"Antall\", color='#3fA040')\n",
    "\n",
    "# Vis plottet\n",
    "plt.tight_layout()\n",
    "plt.show()"
   ]
  },
  {
   "cell_type": "markdown",
   "metadata": {},
   "source": [
    "## Oppgave\n",
    "\n",
    "1. **Gjennomsnittsberegning:**\n",
    "\n",
    "- Velg en numerisk kolonne i ditt datasett, for eksempel estimert_tid eller sum_timar.\n",
    "- Bruk et passende verktøy eller et programmeringsspråk for å beregne gjennomsnittsverdien av denne kolonnen.\n",
    "- Noter dette tallet og tenk over hva det indikerer om datasettet ditt.\n",
    "\n",
    "2. **Medianberegning:**\n",
    "\n",
    "- Sorter den valgte numeriske kolonnen i stigende rekkefølge.\n",
    "- Finn og noter medianverdien.\n",
    "- Sammenlign medianen med gjennomsnittet du beregnet tidligere. Reflekter over eventuelle forskjeller og hva de kan fortelle om distribusjonen av dataene dine.\n",
    "\n",
    "3. **Modusberegning:**\n",
    "\n",
    "- Velg en kategorisk kolonne i ditt datasett, som jobbliste_type eller fagomraade_kode.\n",
    "- Beregn og noter hvilken kategori som er mest frekvent (modus).\n"
   ]
  }
 ],
 "metadata": {
  "kernelspec": {
   "display_name": "base",
   "language": "python",
   "name": "python3"
  },
  "language_info": {
   "codemirror_mode": {
    "name": "ipython",
    "version": 3
   },
   "file_extension": ".py",
   "mimetype": "text/x-python",
   "name": "python",
   "nbconvert_exporter": "python",
   "pygments_lexer": "ipython3",
   "version": "3.9.13"
  }
 },
 "nbformat": 4,
 "nbformat_minor": 2
}
