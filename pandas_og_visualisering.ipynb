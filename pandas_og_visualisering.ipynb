{
 "cells": [
  {
   "cell_type": "markdown",
   "id": "3fd14283",
   "metadata": {},
   "source": [
    "# Velkommen til Python introduksjon"
   ]
  },
  {
   "cell_type": "markdown",
   "metadata": {},
   "source": [
    "#### Importere data fra World Bank Data\n",
    "\n",
    "Hente ut data via API og lager diagrammer befoldningsvekst for alle land i Afrika sammen, og individuelt for alle sammen. "
   ]
  },
  {
   "cell_type": "code",
   "execution_count": null,
   "id": "baccb434",
   "metadata": {},
   "outputs": [],
   "source": [
    "import pandas as pd\n",
    "import matplotlib.pyplot as plt\n",
    "import sys\n",
    "import numpy as np\n",
    "\n",
    "# Importing nesessary packages to get access to WORLD BANK DATABASES\n",
    "import wbgapi as wb\n",
    "\n",
    "# Get info for all the databaes \n",
    "#print(wb.source.info())\n",
    "\n",
    "\n",
    "# population\n",
    "sourcePopulation = wb.data.DataFrame('SP.POP.TOTL',time=range(2000,2016, 1),labels=True, numericTimeKeys=True).transpose()\n",
    "# print(sourcePopulation)\n",
    "# print(sourcePopulation.shape)\n",
    "# print(type(sourcePopulation))\n",
    "\n",
    "popNp = np.array(sourcePopulation)\n",
    "# print(popNp.shape)\n",
    "# print(list(popNp[1][:]))\n",
    "\n",
    "\n",
    "wb.data.DataFrame('SP.POP.TOTL', economy=wb.region.members('AFE'), time=range(1975, 2021, 1),\n",
    "                  labels=True, numericTimeKeys=True).set_index('Country').transpose().plot(title='Population',\n",
    "                                                                                           marker='o', figsize=(20, 10))\n",
    "plt.xlabel(\"Country\")\n",
    "plt.ylabel(\"Population\")\n",
    "plt.show()\n",
    "\n",
    "# Fetching data\n",
    "data = wb.data.DataFrame('SP.POP.TOTL', economy=wb.region.members('AFE'), time=range(1975, 2021, 1),\n",
    "                         labels=True, numericTimeKeys=True).set_index('Country').transpose()\n",
    "\n",
    "# iterere over alle landene og lage graf for alle landene seperat\n",
    "for country in data.columns:\n",
    "    data[country].plot(title=f'Population of {country}', marker='o', figsize=(20, 10))\n",
    "    plt.xlabel(\"Year\")\n",
    "    plt.ylabel(\"Population\")\n",
    "    plt.show()\n"
   ]
  },
  {
   "cell_type": "markdown",
   "id": "10d1f0ac",
   "metadata": {},
   "source": [
    "# OpenWeatherMap API"
   ]
  },
  {
   "cell_type": "code",
   "execution_count": null,
   "id": "a72ef8de",
   "metadata": {},
   "outputs": [],
   "source": [
    "import requests\n",
    "import matplotlib.pyplot as plt\n",
    "from datetime import datetime\n",
    "\n",
    "def get_3hour_forecast(city_name, api_key):\n",
    "    base_url = \"http://api.openweathermap.org/data/2.5/forecast\"\n",
    "    \n",
    "    params = {\n",
    "        'q': city_name,\n",
    "        'appid': api_key,\n",
    "        'units': 'metric'\n",
    "    }\n",
    "    \n",
    "    response = requests.get(base_url, params=params)\n",
    "    \n",
    "    if response.status_code == 200:\n",
    "        return response.json()\n",
    "    else:\n",
    "        print(f\"Error {response.status_code}: Unable to fetch the weather data.\")\n",
    "        return None\n",
    "\n",
    "# Extract and plot the temperature\n",
    "def plot_temperature(data):\n",
    "    dates = [x['dt_txt'] for x in data['list']]\n",
    "    temps = [x['main']['temp'] for x in data['list']]\n",
    "    \n",
    "    plt.figure(figsize=(10, 5))\n",
    "    plt.plot(dates, temps, marker='o')\n",
    "    plt.xticks(rotation=45)\n",
    "    plt.xlabel('Time')\n",
    "    plt.ylabel('Temperature (°C)')\n",
    "    plt.title('3-hour Forecast Temperature')\n",
    "    plt.tight_layout()\n",
    "    plt.show()\n",
    "\n",
    "# Replace 'YOUR_API_KEY' with your actual API key\n",
    "# If you dont have api key, create an account and add new api key: https://home.openweathermap.org/users/sign_up\n",
    "\n",
    "api_key = 'YOUR_API_KEY'\n",
    "city_name = 'london'\n",
    "\n",
    "forecast_data = get_3hour_forecast(city_name, api_key)\n",
    "if forecast_data:\n",
    "    plot_temperature(forecast_data)\n"
   ]
  },
  {
   "cell_type": "markdown",
   "id": "23745597",
   "metadata": {},
   "source": [
    "# Importere datasett fra excel fil \n",
    "\n"
   ]
  },
  {
   "cell_type": "code",
   "execution_count": 3,
   "id": "173ad3a3",
   "metadata": {},
   "outputs": [],
   "source": [
    "# Gir\n",
    "import pandas as pd\n",
    "import numpy as np\n",
    "\n",
    "dataset = pd.read_excel('Datasett_vaktutkallingar.xlsx')"
   ]
  },
  {
   "cell_type": "code",
   "execution_count": null,
   "id": "d963e983",
   "metadata": {},
   "outputs": [],
   "source": [
    "\n",
    "dataset.head(n=5)  #skriver ut 10 første rad"
   ]
  },
  {
   "cell_type": "code",
   "execution_count": null,
   "id": "f4ed27cd",
   "metadata": {},
   "outputs": [],
   "source": [
    "dataset.tail(n=5)  # skriver ut de siste 5 for å sikre at alle data er hentet med"
   ]
  },
  {
   "cell_type": "code",
   "execution_count": null,
   "id": "6d9c5af5",
   "metadata": {},
   "outputs": [],
   "source": [
    "# finner ut hvor mange data celler som er tomme\n",
    "missing_data = dataset.isna().sum()\n",
    "\n",
    "print(missing_data)"
   ]
  },
  {
   "cell_type": "code",
   "execution_count": null,
   "id": "a9e7e8f4",
   "metadata": {},
   "outputs": [],
   "source": [
    "# Filtrere listen slik at vi får alle overskrivtene til de som mangler verdier\n",
    "missing_columns = dataset.columns[dataset.isna().any()].tolist()\n",
    "print(missing_columns)"
   ]
  },
  {
   "cell_type": "code",
   "execution_count": 22,
   "id": "20a6dee0",
   "metadata": {},
   "outputs": [],
   "source": [
    "# Dette kan du bruke for å endre de tomme feltene til andre verdier\n",
    "for column in missing_columns:\n",
    "    \n",
    "    if(np.issubdtype(dataset[column].dtype, np.number)):\n",
    "        dataset[column].fillna(-1, inplace=True)\n",
    "\n",
    "    elif dataset[column].dtype == 'object':\n",
    "        dataset[column].fillna('Ukjent', inplace=True)\n",
    "\n",
    "    elif np.issubdtype(dataset[column].dtype, np.datetime64):\n",
    "         dataset[column].fillna(\"1990-01-01 00:00:00\", inplace=True)\n",
    "        \n"
   ]
  },
  {
   "cell_type": "code",
   "execution_count": null,
   "id": "ab71e42c",
   "metadata": {},
   "outputs": [],
   "source": [
    "# finner ut hvor mange data celler som er tomme\n",
    "missing_data = dataset.isna().sum()\n",
    "\n",
    "print(m)\n",
    "print(missing_data)"
   ]
  },
  {
   "cell_type": "code",
   "execution_count": null,
   "id": "9d424807",
   "metadata": {},
   "outputs": [],
   "source": [
    "dataset.head() # printe datasettet igjen for å se at all stemmer"
   ]
  },
  {
   "cell_type": "code",
   "execution_count": null,
   "id": "9f738fef",
   "metadata": {},
   "outputs": [],
   "source": [
    "# looper gjennom datasettet og skriver ut radene med na verdi for å sjekke\n",
    "\n",
    "nan_rows = dataset[dataset.isna().any(axis=1)]\n",
    "rows_list = []\n",
    "\n",
    "pd.set_option('display.max_rows', None) \n",
    "\n",
    "# Filtrere datasettet til å skrive ut rader som inneholder NaN verdier\n",
    "dataset[dataset.isna().any(axis=1)]"
   ]
  },
  {
   "cell_type": "code",
   "execution_count": null,
   "id": "76849b08",
   "metadata": {},
   "outputs": [],
   "source": [
    "# gruppere alle dataene basert på kolonnen: \"objektNr\" slik at vi samler alle data for hver objektnr\n",
    "\n",
    "# Vi kan skrive ut bare collonne navnene, kopiere de navnene vi trenger slik at vi unngåe å skrive feil\n",
    "columns = dataset.columns\n",
    "print(columns)\n",
    "\n",
    "grouped = dataset.groupby('Objektnr')\n",
    "\n",
    "df_dict = {}\n",
    "for objektNr, group_df in grouped:\n",
    "    df_dict[objektNr] = group_df\n"
   ]
  },
  {
   "cell_type": "code",
   "execution_count": 10,
   "id": "304534d7",
   "metadata": {},
   "outputs": [],
   "source": [
    "## går vi gjennom og teller antal rader for hver av objektNr\n",
    "# på denne måten kan vi finne ut antall vakt tilkallinger for hver objekt\n",
    "\n",
    "antall_vakttilkallinger = {}\n",
    "for objektNr, group_df in grouped:\n",
    "    antall_vakttilkallinger[objektNr] = len(group_df)\n",
    "\n",
    "# lagrer det i en liste for å bruke det videre\n",
    "vakt_til_kallinger_per_objekt = list(antall_vakttilkallinger.values())"
   ]
  },
  {
   "cell_type": "markdown",
   "id": "348d3bfe",
   "metadata": {},
   "source": [
    "# Visualisering med linjediagram\n"
   ]
  },
  {
   "cell_type": "code",
   "execution_count": null,
   "id": "153f33ae",
   "metadata": {},
   "outputs": [],
   "source": [
    "# Sorter objekter basert på deres vakttilkallinger (for bedre visualisering)\n",
    "sorted_counts = sorted(antall_vakttilkallinger.items(), key=lambda x: x[1], reverse=True)\n",
    "objektnavn = [item[0] for item in sorted_counts]\n",
    "vakttilkallinger = [item[1] for item in sorted_counts]\n",
    "\n",
    "# filtered_values = [value for value in vakttilkallinger if value > 4]\n",
    "# mean = np.mean(filtered_values)\n",
    "mean = np.mean(vakttilkallinger)\n",
    "std = np.std(vakttilkallinger)\n",
    "\n",
    "# Plotting\n",
    "plt.figure(figsize=(15,6))\n",
    "plt.plot(objektnavn, vakttilkallinger, marker='o', linestyle='-')\n",
    "plt.axhline(mean, color='red', linestyle='-', label=\"Gjennomsnitt\")\n",
    "plt.axhline(std, color='green', linestyle='--', label=\"Standardavvik\")\n",
    "plt.xticks(rotation=90)  # Roter objektnavnene for bedre leselighet\n",
    "plt.xlabel('Objektnavn')\n",
    "plt.ylabel('Antall vakttilkallinger')\n",
    "plt.title('Antall vakttilkallinger per objekt')\n",
    "plt.legend()\n",
    "plt.tight_layout()  # Sikrer at objektnavnene ikke overlapper\n",
    "\n",
    "# Begrens antall objekter vist for klarhet\n",
    "plt.xlim(0, 100)  # Dette vil vise de første 50 objektene, juster som nødvendig\n",
    "\n",
    "plt.show()\n"
   ]
  },
  {
   "cell_type": "markdown",
   "id": "8fa35e3d",
   "metadata": {},
   "source": [
    "# Visualisering med historgram\n",
    "\n",
    "Diagrammet illustrerer fordelingen av antall vakttilkallinger per unikt Objektnr. Hver stolpe representerer et intervall av vakttilkallinger, mens stolpens høyde angir hvor mange Objektnr som har et vakttilkallingsantall innenfor det intervallet. Etikettene på stolpene indikerer det nøyaktige antallet Objektnr som passer inn i hvert intervall."
   ]
  },
  {
   "cell_type": "code",
   "execution_count": null,
   "id": "4bfcc472",
   "metadata": {},
   "outputs": [],
   "source": [
    "# her kan vi plotte basert på antall objekter\n",
    "\n",
    "import matplotlib.pyplot as plt\n",
    "\n",
    "# vakttilkallinger fra antall_vakttilkallinger \n",
    "values = list(antall_vakttilkallinger.values())\n",
    "\n",
    "plt.figure(figsize=(12, 6))\n",
    "plt.hist(values, bins=30, color='blue', edgecolor='black', alpha=0.7)\n",
    "\n",
    "# Gjennomsnittslinje\n",
    "mean_value = np.mean(values)\n",
    "plt.axvline(mean_value, color='r', linestyle='dashed', linewidth=2)\n",
    "\n",
    "# Medianlinje\n",
    "median_value = np.median(values)\n",
    "plt.axvline(median_value, color='g', linestyle='dashed', linewidth=2)\n",
    "\n",
    "# Titler og aksetitler\n",
    "plt.title('Fordeling av vakttilkallinger per Objektnr')\n",
    "plt.xlabel('Antall vakttilkallinger')\n",
    "plt.ylabel('Antall Objektnr')\n",
    "plt.legend(['Gjennomsnitt', 'Median', 'Objektnr'])\n",
    "plt.show()"
   ]
  },
  {
   "cell_type": "markdown",
   "id": "3475c560",
   "metadata": {},
   "source": [
    "# Visualisering med boksdiagram graf"
   ]
  },
  {
   "cell_type": "code",
   "execution_count": null,
   "id": "3f373720",
   "metadata": {},
   "outputs": [],
   "source": [
    "# Data\n",
    "\n",
    "values = list(antall_vakttilkallinger.values())\n",
    "\n",
    "# Boxplot\n",
    "plt.figure(figsize=(10, 6))\n",
    "sns.boxplot(values)\n",
    "plt.title('Fordeling av vakttilkallinger per Objektnr')\n",
    "plt.xlabel('Antall vakttilkallinger')\n",
    "plt.show()"
   ]
  },
  {
   "cell_type": "markdown",
   "id": "04358135",
   "metadata": {},
   "source": [
    "# Kumulativ distribusjonsfunksjon (CDF): \n",
    "En CDF-plot kan hjelpe med å vise sannsynligheten for at et tilfeldig valgt objekt vil ha et bestemt antall vakttilkallinger eller mindre. Dette gir innsikt i hvordan vakttilkallinger er fordelt over alle objekter.\n",
    "\n",
    "Eksempel: \n",
    "- For verdien 1 på x-aksen (1 vakttilkalling), vil CDF-verdien være 0,25 (eller 25%). Dette betyr at 25% av objektene har 1 vakttilkalling eller mindre.\n",
    "- For verdien 2 på x-aksen (2 vakttilkallinger), vil CDF-verdien være 0,50 (eller 50%). Dette betyr at 50% av objektene har 2 vakttilkallinger eller mindre.\n",
    "- Og så videre..."
   ]
  },
  {
   "cell_type": "code",
   "execution_count": null,
   "id": "2fe212a2",
   "metadata": {},
   "outputs": [],
   "source": [
    "\n",
    "\n",
    "plt.figure(figsize=(10, 6))\n",
    "sns.ecdfplot(values)\n",
    "plt.title('Kumulativ distribusjonsfunksjon av vakttilkallinger per Objektnr')\n",
    "plt.xlabel('Antall vakttilkallinger')\n",
    "plt.ylabel('Kumulativ sannsynlighet')\n",
    "plt.show()"
   ]
  },
  {
   "cell_type": "markdown",
   "id": "3f9e253a",
   "metadata": {},
   "source": [
    "# Spredningsdiagram\n",
    "\n",
    "Vi har beregnet median absolutt avvik (MAD) og gjennomsnitt. Gjennomsnittet er på 4.65, mens MAD er på 1. \n",
    "\n",
    "Hva vil MAD på 1 si:\n",
    "- En betydelig andel av dataene dine ligger nær medianen.\n",
    "- Den \"typiske\" avviket fra medianen er 1."
   ]
  },
  {
   "cell_type": "code",
   "execution_count": null,
   "id": "bd32db28",
   "metadata": {},
   "outputs": [],
   "source": [
    "# Indeksene for hver verdi\n",
    "\n",
    "# definerer en funksjon for å finne ut Median Absolutt Avvik\n",
    "def mad(data):\n",
    "    median = np.median(data)\n",
    "    mad_value = np.median(np.abs(data - median))\n",
    "    return mad_value\n",
    "\n",
    "\n",
    "indexes = np.arange(len(values))\n",
    "\n",
    "plt.scatter(indexes, vakttilkallinger, marker='.')\n",
    "plt.title(\"Spredningsdiagram av Vakttilkallinger\")\n",
    "plt.xlabel(\"Indeks\")\n",
    "plt.ylabel(\"Antall Vakttilkallinger\")\n",
    "plt.axhline(np.mean(vakttilkallinger), color='r', linestyle='dashed', linewidth=1, label=f\"Gjennomsnitt: {round(np.mean(vakttilkallinger), 2)}\")\n",
    "plt.axhline(mad(vakttilkallinger), color='g', linestyle='-', linewidth=1, label=f\"MAD: {mad(vakttilkallinger)}\")\n",
    "plt.legend()\n",
    "plt.tight_layout()\n",
    "plt.xlim(0, 100)\n",
    "plt.show()"
   ]
  },
  {
   "cell_type": "markdown",
   "id": "5a8fea8c",
   "metadata": {},
   "source": [
    "# Gjennomsnitt og standardavvik\n",
    "\n",
    "Standardavvik er et mål på spredningen i datasamlingen. STD viser gjennomsnittets avviket fra gjennomsnittet, med andre ord: vi regner ut gjennomsnittet først, så regner vi ut hvor langt hvert tall er fra gjennomsnittet(avvik), så tar vi regner vi gjennomsnittet av alle avvikene.  "
   ]
  },
  {
   "cell_type": "code",
   "execution_count": null,
   "id": "f2d52bc3",
   "metadata": {},
   "outputs": [],
   "source": [
    "# regne ut gjennomsnitt, stdavvik\n",
    "\n",
    "\n",
    "mean = np.mean(vakt_til_kallinger_per_objekt)\n",
    "std = np.std(vakt_til_kallinger_per_objekt)\n",
    "\n",
    "print(\"Gjennomsnitt: \", mean)\n",
    "print(\"Standardavvik: \", std)"
   ]
  },
  {
   "cell_type": "markdown",
   "id": "90741bc4",
   "metadata": {},
   "source": [
    "# Videre analyse av data\n",
    "\n",
    "Fram til nå har vi sett på hvert enkelt objekt og dets hyppighet i vakttilkallinger. Vi har funnet store forskjeller på hvor mange tilkallinger hvert objekt har. Nå skal vi se på dataene med hensyn på tiden gjennom for alle tre årene. Vi skal også sammenligne forskjelliger ferioder for hvert objekt, og til slutt skal vi fokusere på periodene med hensyn på alle objektene. \n",
    "\n",
    "Spørsmålene vi skal stille oss er:\n",
    "\n",
    "- Hvilket perioder har vært mest belastende for:\n",
    "    - et enkelt objekt\n",
    "    - for alle objektene\n",
    "- Er det noen spesielle perioder som skiller seg ut?\n",
    "- Hvilket trender kan vi dra ut av dataen?\n",
    "- Viser noen av objektene forbedringer eller har det blitt verre?\n",
    "- Hvor langt er det mellom innkallingene og hvor hyppige skjer de?\n"
   ]
  },
  {
   "cell_type": "markdown",
   "id": "4dd8ef21",
   "metadata": {},
   "source": []
  },
  {
   "cell_type": "markdown",
   "id": "6c82e24b",
   "metadata": {},
   "source": []
  },
  {
   "cell_type": "code",
   "execution_count": null,
   "id": "61e48611",
   "metadata": {},
   "outputs": [],
   "source": []
  }
 ],
 "metadata": {
  "kernelspec": {
   "display_name": "Python 3 (ipykernel)",
   "language": "python",
   "name": "python3"
  },
  "language_info": {
   "codemirror_mode": {
    "name": "ipython",
    "version": 3
   },
   "file_extension": ".py",
   "mimetype": "text/x-python",
   "name": "python",
   "nbconvert_exporter": "python",
   "pygments_lexer": "ipython3",
   "version": "3.9.13"
  }
 },
 "nbformat": 4,
 "nbformat_minor": 5
}
